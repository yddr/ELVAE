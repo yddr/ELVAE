{
 "cells": [
  {
   "cell_type": "code",
   "execution_count": 1,
   "metadata": {},
   "outputs": [
    {
     "name": "stderr",
     "output_type": "stream",
     "text": [
      "Using backend: pytorch\n"
     ]
    }
   ],
   "source": [
    "import pickle\n",
    "import torch\n",
    "import model.NPVAE as NPVAE\n",
    "import easydict \n",
    "from collections import OrderedDict\n",
    "from model.utils import *\n",
    "from collections import Counter\n",
    "import argparse\n",
    "import time\n",
    "from rdkit import RDLogger, Chem\n",
    "import datetime\n",
    "from train import collate as collate\n",
    "import numpy as np\n",
    "import warnings"
   ]
  },
  {
   "cell_type": "code",
   "execution_count": 2,
   "metadata": {},
   "outputs": [],
   "source": [
    "parser = argparse.ArgumentParser()\n",
    "\n",
    "args = easydict.EasyDict({\n",
    "\"x_size\" : 2048,\n",
    "\"h_size\" : 512,\n",
    "\"mid_size\" : 256,\n",
    "\"z_dim\" : 256,\n",
    "\"label_size\" : 4802,\n",
    "\"max_iter\" : 500,\n",
    "\"label_path\" : \"/home/yddr/code/NPVAE/electrolyte_preprocessed/input_data/labels\",\n",
    "\"device\" : \"cuda\",\n",
    "\"status\" : \"test\",\n",
    "\"n_trial\" : 3,\n",
    "\"test3D\" : False,\n",
    "\"return2D\": None,\n",
    "\"load_path\": \"/home/yddr/code/NPVAE/param_data_4\",\n",
    "\"load_epoch\": 100,\n",
    "\"frequency\": 5,\n",
    "\"prepared_path\": \"/home/yddr/code/NPVAE/electrolyte_preprocessed\",\n",
    "\"fpbit\": 2048,\n",
    "\"radius\": 2\n",
    "})"
   ]
  },
  {
   "cell_type": "code",
   "execution_count": 3,
   "metadata": {},
   "outputs": [],
   "source": [
    "with open('/home/yddr/code/NPVAE/electrolyte_preprocessed/input_data/labels', 'rb') as f:\n",
    "    labels = pickle.load(f)\n",
    "\n",
    "model = NPVAE.Chem_VAE(2048, 512, 256, 256, 0, len(labels), 500, labels, None, None, None, None, None, 'cuda', \"test\", 3, True)\n",
    "\n",
    "load_path = \"/home/yddr/code/NPVAE/param_data_4/model.iter-100\"\n",
    "state_dict = torch.load(load_path)\n",
    "new_state_dict = OrderedDict()\n",
    "for k, v in state_dict.items():\n",
    "    name = k.replace('module.', '')\n",
    "    new_state_dict[name] = v\n",
    "model.load_state_dict(new_state_dict)\n",
    "model.eval()\n",
    "model = model.to('cuda')"
   ]
  },
  {
   "cell_type": "code",
   "execution_count": 5,
   "metadata": {},
   "outputs": [
    {
     "name": "stdout",
     "output_type": "stream",
     "text": [
      "Prediction Property of C(CCCC(=O)O)[C@@H]1CCSS1 is [-0.862643]\n"
     ]
    },
    {
     "name": "stderr",
     "output_type": "stream",
     "text": [
      "/home/yddr/miniconda3/envs/venv/lib/python3.7/site-packages/dgl/base.py:45: DGLWarning: Recommend creating graphs by `dgl.graph(data)` instead of `dgl.DGLGraph(data)`.\n",
      "  return warnings.warn(message, category=category, stacklevel=1)\n",
      "/home/yddr/miniconda3/envs/venv/lib/python3.7/site-packages/dgl/base.py:45: DGLWarning: The input graph for the user-defined edge function does not contain valid edges\n",
      "  return warnings.warn(message, category=category, stacklevel=1)\n"
     ]
    }
   ],
   "source": [
    "smiles = \"C(CCCC(=O)O)[C@@H]1CCSS1\"\n",
    "\n",
    "# Preproocess 1\n",
    "\n",
    "mol = Chem.MolFromSmiles(smiles)\n",
    "Chem.Kekulize(mol)\n",
    "mol = Chem.RemoveHs(mol)\n",
    "\n",
    "# Preproocess 2\n",
    "cl, frag = count_fragments(mol)\n",
    "count_labels = Counter(cl)\n",
    "\n",
    "# Preproocess 3\n",
    "mapidxs, labelmap_dict, bondtypes, max_mapnums, frag = find_fragments(mol, count_labels, args.frequency)\n",
    "\n",
    "# Preproocess 4\n",
    "rev_labelmap_dict, deg = revise_maps(labelmap_dict)\n",
    "\n",
    "# Preproocess 5\n",
    "labels = []\n",
    "for k in rev_labelmap_dict.keys():\n",
    "    for l in rev_labelmap_dict[k]:\n",
    "        label=[]\n",
    "        label.append(k)\n",
    "        label.append(l)\n",
    "        if label not in labels:\n",
    "            labels.append(label)\n",
    "\n",
    "# Preprocess 6\n",
    "g, sub_tree, root_answer, l_ans_list, b_ans_list = make_graph(mapidxs, labelmap_dict, rev_labelmap_dict ,labels, bondtypes)\n",
    "\n",
    "# Preprocess 9\n",
    "mol_ecfp = make_ecfp3D(smiles, args.fpbit, args.radius)\n",
    "mol_ecfp = np.asarray(mol_ecfp)\n",
    "mol_ecfp = torch.from_numpy(mol_ecfp).float()\n",
    "mol_ecfp = mol_ecfp.unsqueeze(0)\n",
    "\n",
    "\n",
    "g = g.to(torch.device(args.device))\n",
    "n = g.number_of_nodes()\n",
    "h = torch.zeros((n, args.h_size)).to(args.device)\n",
    "c = torch.zeros((n, args.h_size)).to(args.device)    \n",
    "feat = g.ndata['ecfp'].to(args.device)\n",
    "m_ecfp = mol_ecfp.to(args.device)\n",
    "\n",
    "#z, dec_smi, _, mol_pred = model(g, None, None, m_ecfp, smiles, None, feat, h, c, None, None, None, None, None)\n",
    "z, _, _ = model.encoder(g, m_ecfp, smiles, feat, h, c)\n",
    "pred_value = model.one_prop_pred(z)\n",
    "print(\"Prediction Property of {} is {}\".format(smiles,pred_value))"
   ]
  },
  {
   "cell_type": "code",
   "execution_count": 6,
   "metadata": {},
   "outputs": [
    {
     "name": "stdout",
     "output_type": "stream",
     "text": [
      "Prediction Property of ClC(Cl)(Cl)F is [-1.9400072]\n"
     ]
    }
   ],
   "source": [
    "smiles = \"ClC(Cl)(Cl)F\"\n",
    "\n",
    "# Preproocess 1\n",
    "\n",
    "mol = Chem.MolFromSmiles(smiles)\n",
    "Chem.Kekulize(mol)\n",
    "mol = Chem.RemoveHs(mol)\n",
    "\n",
    "# Preproocess 2\n",
    "cl, frag = count_fragments(mol)\n",
    "count_labels = Counter(cl)\n",
    "\n",
    "# Preproocess 3\n",
    "mapidxs, labelmap_dict, bondtypes, max_mapnums, frag = find_fragments(mol, count_labels, args.frequency)\n",
    "\n",
    "# Preproocess 4\n",
    "rev_labelmap_dict, deg = revise_maps(labelmap_dict)\n",
    "\n",
    "# Preproocess 5\n",
    "labels = []\n",
    "for k in rev_labelmap_dict.keys():\n",
    "    for l in rev_labelmap_dict[k]:\n",
    "        label=[]\n",
    "        label.append(k)\n",
    "        label.append(l)\n",
    "        if label not in labels:\n",
    "            labels.append(label)\n",
    "\n",
    "# Preprocess 6\n",
    "g, sub_tree, root_answer, l_ans_list, b_ans_list = make_graph(mapidxs, labelmap_dict, rev_labelmap_dict ,labels, bondtypes)\n",
    "\n",
    "# Preprocess 9\n",
    "mol_ecfp = make_ecfp3D(smiles, args.fpbit, args.radius)\n",
    "mol_ecfp = np.asarray(mol_ecfp)\n",
    "mol_ecfp = torch.from_numpy(mol_ecfp).float()\n",
    "mol_ecfp = mol_ecfp.unsqueeze(0)\n",
    "\n",
    "\n",
    "g = g.to(torch.device(args.device))\n",
    "n = g.number_of_nodes()\n",
    "h = torch.zeros((n, args.h_size)).to(args.device)\n",
    "c = torch.zeros((n, args.h_size)).to(args.device)    \n",
    "feat = g.ndata['ecfp'].to(args.device)\n",
    "m_ecfp = mol_ecfp.to(args.device)\n",
    "\n",
    "#z, dec_smi, _, mol_pred = model(g, None, None, m_ecfp, smiles, None, feat, h, c, None, None, None, None, None)\n",
    "z, _, _ = model.encoder(g, m_ecfp, smiles, feat, h, c)\n",
    "pred_value = model.one_prop_pred(z)\n",
    "print(\"Prediction Property of {} is {}\".format(smiles,pred_value))"
   ]
  },
  {
   "cell_type": "markdown",
   "metadata": {},
   "source": [
    "### **Real ClC(Cl)(Cl)F LUMO property value : -1.8694**"
   ]
  },
  {
   "cell_type": "code",
   "execution_count": null,
   "metadata": {},
   "outputs": [],
   "source": []
  }
 ],
 "metadata": {
  "kernelspec": {
   "display_name": "npvae",
   "language": "python",
   "name": "python3"
  },
  "language_info": {
   "codemirror_mode": {
    "name": "ipython",
    "version": 3
   },
   "file_extension": ".py",
   "mimetype": "text/x-python",
   "name": "python",
   "nbconvert_exporter": "python",
   "pygments_lexer": "ipython3",
   "version": "3.7.undefined"
  }
 },
 "nbformat": 4,
 "nbformat_minor": 2
}
